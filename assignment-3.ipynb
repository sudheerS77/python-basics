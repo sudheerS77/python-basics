{
  "cells": [
    {
      "attachments": {},
      "cell_type": "markdown",
      "metadata": {},
      "source": [
        "<b>1. Why are functions advantageous to have in your programs?<br>\n",
        "\n",
        "<b>Answer:\n",
        ">   Functions are used because of reuseability, you can invoke the function many times, it makes the program easier to read.   \n",
        "<hr >"
      ]
    },
    {
      "attachments": {},
      "cell_type": "markdown",
      "metadata": {},
      "source": [
        "<b>2.When does the code in a function run: when it's specified or when it's called?\n",
        "<br>\n",
        "\n",
        "<b>Answer:\n",
        "> The code in a function will be executed when it's called     \n",
        "<hr >"
      ]
    },
    {
      "attachments": {},
      "cell_type": "markdown",
      "metadata": {},
      "source": [
        "<b>3. What statement creates a function?\n",
        "\n",
        "<b>Answer:\n",
        ">   def statement creates a function\n",
        "<hr >"
      ]
    },
    {
      "attachments": {},
      "cell_type": "markdown",
      "metadata": {},
      "source": [
        "<b>4. What is the difference between a function and a function call?\n",
        "\n",
        "<b>Answer:\n",
        "\n",
        ">- Function is a block of code that contains a block of statements or piece of code to perform a task\n",
        ">- Function call is used to pass control to the function or it's used to call the function inorder to execute it\n",
        "<hr >"
      ]
    },
    {
      "attachments": {},
      "cell_type": "markdown",
      "metadata": {},
      "source": [
        "<b>5. How many global scopes are there in a Python program? How many local scopes?\n",
        "\n",
        "<b>Answer:\n",
        ">One Global scope\n",
        ">One Local Scope\n",
        "<hr >"
      ]
    },
    {
      "attachments": {},
      "cell_type": "markdown",
      "metadata": {},
      "source": [
        "<b>6. What happens to variables in a local scope when the function call returns?\n",
        "\n",
        "<b>Answer:\n",
        ">The variables that have local scope are destroyed when the function is terminated or function call returns\n",
        "<hr >"
      ]
    },
    {
      "attachments": {},
      "cell_type": "markdown",
      "metadata": {},
      "source": [
        "<b>7. What is the concept of a return value? Is it possible to have a return value in an expression?\n",
        "\n",
        "<b>Answer:\n",
        ">- return value will return the value to the function call and it will end the execution of the function call.\n",
        ">- return can also be used in an expression\n",
        "<hr >"
      ]
    },
    {
      "attachments": {},
      "cell_type": "markdown",
      "metadata": {},
      "source": [
        "<b>8. If a function does not have a return statement, what is the return value of a call to that function?\n",
        "<b>Answer:\n",
        "> If there is not return statement then the return value is None"
      ]
    },
    {
      "cell_type": "code",
      "execution_count": 2,
      "metadata": {},
      "outputs": [
        {
          "name": "stdout",
          "output_type": "stream",
          "text": [
            "Function\n",
            "result None\n"
          ]
        }
      ],
      "source": [
        "def fun():\n",
        "    #no return value \n",
        "    print(\"Function\")\n",
        "res = fun()\n",
        "print(\"result\",res)"
      ]
    },
    {
      "attachments": {},
      "cell_type": "markdown",
      "metadata": {},
      "source": [
        "<b>9. How do you make a function variable refer to the global variable?\n",
        "\n",
        "<b>Answer:\n",
        "> To refere the function variable to the global variable we use global keyword "
      ]
    },
    {
      "cell_type": "code",
      "execution_count": 2,
      "metadata": {},
      "outputs": [
        {
          "name": "stdout",
          "output_type": "stream",
          "text": [
            "20\n"
          ]
        }
      ],
      "source": [
        "def funvar():\n",
        "    global a\n",
        "    a = 20\n",
        "funvar()\n",
        "print(a)"
      ]
    },
    {
      "attachments": {},
      "cell_type": "markdown",
      "metadata": {},
      "source": [
        "<b>10. What is the data type of None?\n",
        "\n",
        "<b>Answer:\n",
        "> NoneType\n",
        "<hr >"
      ]
    },
    {
      "attachments": {},
      "cell_type": "markdown",
      "metadata": {},
      "source": [
        "<b>11. What does the sentence import areallyourpetsnamederic do?\n",
        "\n",
        "<b>Answer:\n",
        ">import statement will imports the areallyourpetsnamederic module\n",
        "<hr >"
      ]
    },
    {
      "attachments": {},
      "cell_type": "markdown",
      "metadata": {},
      "source": [
        "<b>12. If you had a bacon() feature in a spam module, what would you call it after importing spam?\n",
        "\n",
        "<b>Answer:\n",
        "> spam.bacon()\n",
        "<hr >"
      ]
    },
    {
      "attachments": {},
      "cell_type": "markdown",
      "metadata": {},
      "source": [
        "<b>13. What can you do to save a programme from crashing if it encounters an error?\n",
        "\n",
        "<b>Answer:\n",
        ">- By using the try - except clause we can save a programme fromcrashing if it encounters an error\n",
        ">- Write the code in try clause to avoid crashing \n",
        "<hr >"
      ]
    },
    {
      "attachments": {},
      "cell_type": "markdown",
      "metadata": {},
      "source": [
        "<b>14. What is the purpose of the try clause? What is the purpose of the except clause?\n",
        "\n",
        "<b>Answer:\n",
        ">try block is used to test a block of code for errors\n",
        ">except block will handle the error that are created in the try clause\n",
        "<hr >"
      ]
    }
  ],
  "metadata": {
    "kernelspec": {
      "display_name": "Python 3",
      "language": "python",
      "name": "python3"
    },
    "language_info": {
      "codemirror_mode": {
        "name": "ipython",
        "version": 3
      },
      "file_extension": ".py",
      "mimetype": "text/x-python",
      "name": "python",
      "nbconvert_exporter": "python",
      "pygments_lexer": "ipython3",
      "version": "3.10.5"
    },
    "vscode": {
      "interpreter": {
        "hash": "369f2c481f4da34e4445cda3fffd2e751bd1c4d706f27375911949ba6bb62e1c"
      }
    }
  },
  "nbformat": 4,
  "nbformat_minor": 4
}
