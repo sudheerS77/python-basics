{
 "cells": [
  {
   "attachments": {},
   "cell_type": "markdown",
   "metadata": {},
   "source": [
    "<b>1. What are escape characters, and how do you use them?\n",
    "\n",
    "<b>Answer:\n",
    ">- \\ is an escape character\n",
    ">- place \\ before the character you want to use\n",
    ">- print(\"i write \\\"code\\\"\") "
   ]
  },
  {
   "cell_type": "code",
   "execution_count": 5,
   "metadata": {},
   "outputs": [
    {
     "name": "stdout",
     "output_type": "stream",
     "text": [
      "i write \"code\"\n"
     ]
    }
   ],
   "source": [
    "print(\"i write \\\"code\\\"\")"
   ]
  },
  {
   "attachments": {},
   "cell_type": "markdown",
   "metadata": {},
   "source": [
    "<b>2. What do the escape characters n and t stand for?\n",
    "\n",
    "<b>Answer:\n",
    ">- \\n - newline\n",
    ">- \\t = tab\n",
    "<hr >"
   ]
  },
  {
   "attachments": {},
   "cell_type": "markdown",
   "metadata": {},
   "source": [
    "<b>3. What is the way to include backslash characters in a string?\n",
    "\n",
    "<b>Answer:\n",
    ">To use backslash character in a string place two backslash\n",
    "<hr >"
   ]
  },
  {
   "cell_type": "code",
   "execution_count": 6,
   "metadata": {},
   "outputs": [
    {
     "name": "stdout",
     "output_type": "stream",
     "text": [
      "hi \\ hello\n"
     ]
    }
   ],
   "source": [
    "print(\"hi \\\\ hello\")"
   ]
  },
  {
   "attachments": {},
   "cell_type": "markdown",
   "metadata": {},
   "source": [
    "<b>4. The string &quot;Howl&#39;s Moving Castle&quot; is a correct value. Why isn&#39;t the single quote character in the\n",
    "word Howl&#39;s not escaped a problem?\n",
    "\n",
    "<b>Answer:\n",
    ">\"Howl's Moving Castle\" - here we used \" \" (double quotes) in the begning and the ending of the statement so it wont create any error\n",
    "<hr >"
   ]
  },
  {
   "cell_type": "code",
   "execution_count": 8,
   "metadata": {},
   "outputs": [
    {
     "name": "stdout",
     "output_type": "stream",
     "text": [
      "Howl's Moving Castle\n"
     ]
    }
   ],
   "source": [
    "print(\"Howl's Moving Castle\")"
   ]
  },
  {
   "attachments": {},
   "cell_type": "markdown",
   "metadata": {},
   "source": [
    "<b>5.How do you write a string of newlines if you don&#39;t want to use the n character?\n",
    "\n",
    "<b>Answer:\n",
    ">\n",
    "<hr >"
   ]
  },
  {
   "attachments": {},
   "cell_type": "markdown",
   "metadata": {},
   "source": [
    "<b>6. What are the values of the given expressions?<br>\n",
    "&#39;Hello, world!&#39;[1] <br>\n",
    "&#39;Hello, world!&#39;[0:5]<br>\n",
    "&#39;Hello, world!&#39;[:5]<br>\n",
    "&#39;Hello, world!&#39;[3:]<br>\n",
    "\n",
    "<b>Answer:\n",
    ">- 'Hello world'[1]  -  e\n",
    ">- 'Hello world'[0:5]  -  Hello\n",
    ">- 'Hello world'[:5]  -  Hello\n",
    ">- 'Hello world'[3:]  -  lo world\n"
   ]
  },
  {
   "cell_type": "code",
   "execution_count": 13,
   "metadata": {},
   "outputs": [
    {
     "name": "stdout",
     "output_type": "stream",
     "text": [
      "e\n",
      "Hello\n",
      "Hello\n",
      "lo world\n"
     ]
    }
   ],
   "source": [
    "print('Hello world'[1])\n",
    "print('Hello world'[0:5])\n",
    "print('Hello world'[:5])\n",
    "print('Hello world'[3:])"
   ]
  },
  {
   "attachments": {},
   "cell_type": "markdown",
   "metadata": {},
   "source": [
    "<b>7. What are the values of the following expressions? <br>\n",
    "&#39;Hello&#39;.upper() <br>\n",
    "&#39;Hello&#39;.upper().isupper()<br>\n",
    "&#39;Hello&#39;.upper().lower()<br>\n",
    "\n",
    "<b>Answer:"
   ]
  },
  {
   "cell_type": "code",
   "execution_count": 12,
   "metadata": {},
   "outputs": [
    {
     "name": "stdout",
     "output_type": "stream",
     "text": [
      "HELLO\n",
      "True\n",
      "hello\n"
     ]
    }
   ],
   "source": [
    "print('Hello'.upper())\n",
    "print('Hello'.upper().isupper())\n",
    "print('Hello'.upper().lower())"
   ]
  },
  {
   "attachments": {},
   "cell_type": "markdown",
   "metadata": {},
   "source": [
    "<b>8. What are the values of the following expressions? <br>\n",
    "&#39;Remember, remember, the fifth of July.&#39;.split()<br>\n",
    "&#39;-&#39;.join(&#39;There can only one.&#39;.split())<br>\n",
    "\n",
    "<b>Answer:"
   ]
  },
  {
   "cell_type": "code",
   "execution_count": 14,
   "metadata": {},
   "outputs": [
    {
     "name": "stdout",
     "output_type": "stream",
     "text": [
      "['Remember,', 'remember,', 'the', 'fifth', 'of', 'July.']\n",
      "There-can-only-one.\n"
     ]
    }
   ],
   "source": [
    "print('Remember, remember, the fifth of July.'.split())\n",
    "print('-'.join('There can only one.'.split()))"
   ]
  },
  {
   "attachments": {},
   "cell_type": "markdown",
   "metadata": {},
   "source": [
    "<b>9.What are the methods for right-justifying, left-justifying, and centering a string?\n",
    "\n",
    "<b>Answer:\n",
    ">- rjust() - right-justify\n",
    ">- ljust() - left-justify\n",
    ">- center() - center a string\n"
   ]
  },
  {
   "attachments": {},
   "cell_type": "markdown",
   "metadata": {},
   "source": [
    "<b>10.What is the best way to remove whitespace characters from the start or end?\n",
    "\n",
    "<b>Answer:\n",
    ">- lstrip() - removes whitespaces only from the begning of a string\n",
    ">- rstrip() - removes whitespaces only from the endning of a string\n",
    "<hr >"
   ]
  }
 ],
 "metadata": {
  "kernelspec": {
   "display_name": "Python 3",
   "language": "python",
   "name": "python3"
  },
  "language_info": {
   "codemirror_mode": {
    "name": "ipython",
    "version": 3
   },
   "file_extension": ".py",
   "mimetype": "text/x-python",
   "name": "python",
   "nbconvert_exporter": "python",
   "pygments_lexer": "ipython3",
   "version": "3.10.5"
  },
  "orig_nbformat": 4,
  "vscode": {
   "interpreter": {
    "hash": "369f2c481f4da34e4445cda3fffd2e751bd1c4d706f27375911949ba6bb62e1c"
   }
  }
 },
 "nbformat": 4,
 "nbformat_minor": 2
}
