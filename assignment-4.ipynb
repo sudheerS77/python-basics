{
 "cells": [
  {
   "attachments": {},
   "cell_type": "markdown",
   "metadata": {},
   "source": [
    "<b>1. What exactly is []?\n",
    "\n",
    "<b>Answer:\n",
    ">- [] - it's an empty list which containes no items\n",
    ">- '<class 'list'>'\n",
    "<hr >"
   ]
  },
  {
   "attachments": {},
   "cell_type": "markdown",
   "metadata": {},
   "source": [
    "<b>2. In a list of values stored in a variable called spam, how would you assign the value &#39;hello&#39; as the third value? (Assume [2, 4, 6, 8, 10] are in spam.)\n",
    "\n",
    "<b>Answer:\n",
    ">- by using the index value we can assign the 'hello' as the third value\n",
    ">- spam[2] = 'hello'"
   ]
  },
  {
   "cell_type": "code",
   "execution_count": 3,
   "metadata": {},
   "outputs": [
    {
     "name": "stdout",
     "output_type": "stream",
     "text": [
      "[2, 4, 'hello', 8, 10]\n"
     ]
    }
   ],
   "source": [
    "spam = [2,4,6,8,10]\n",
    "spam[2] = 'hello'\n",
    "print(spam)\n"
   ]
  },
  {
   "attachments": {},
   "cell_type": "markdown",
   "metadata": {},
   "source": [
    "<b>Let's pretend the spam includes the list ['a', 'b', 'c', 'd'] for the next three queries."
   ]
  },
  {
   "attachments": {},
   "cell_type": "markdown",
   "metadata": {},
   "source": [
    "<b>3. What is the value of spam[int(int('3' * 2) / 11)]?\n",
    "\n",
    "<b>Answer:\n",
    ">d"
   ]
  },
  {
   "cell_type": "code",
   "execution_count": 6,
   "metadata": {},
   "outputs": [
    {
     "data": {
      "text/plain": [
       "'d'"
      ]
     },
     "execution_count": 6,
     "metadata": {},
     "output_type": "execute_result"
    }
   ],
   "source": [
    "spam = ['a', 'b', 'c', 'd']\n",
    "spam[int(int('3'*2)/11)]"
   ]
  },
  {
   "attachments": {},
   "cell_type": "markdown",
   "metadata": {},
   "source": [
    "<b>4. What is the value of spam[-1]?\n",
    "\n",
    "<b>Answer:\n",
    ">d\n",
    "<hr >"
   ]
  },
  {
   "cell_type": "code",
   "execution_count": 7,
   "metadata": {},
   "outputs": [
    {
     "data": {
      "text/plain": [
       "'d'"
      ]
     },
     "execution_count": 7,
     "metadata": {},
     "output_type": "execute_result"
    }
   ],
   "source": [
    "spam[-1]"
   ]
  },
  {
   "attachments": {},
   "cell_type": "markdown",
   "metadata": {},
   "source": [
    "<b>5. What is the value of spam[:2]?\n",
    "\n",
    "<b>Answer:\n",
    ">['a','b']\n",
    "<hr >"
   ]
  },
  {
   "cell_type": "code",
   "execution_count": 8,
   "metadata": {},
   "outputs": [
    {
     "data": {
      "text/plain": [
       "['a', 'b']"
      ]
     },
     "execution_count": 8,
     "metadata": {},
     "output_type": "execute_result"
    }
   ],
   "source": [
    "spam[:2]"
   ]
  },
  {
   "attachments": {},
   "cell_type": "markdown",
   "metadata": {},
   "source": [
    "<b>Let&#39;s pretend bacon has the list [3.14, &#39;cat,&#39; 11, &#39;cat,&#39; True] for the next three questions."
   ]
  },
  {
   "attachments": {},
   "cell_type": "markdown",
   "metadata": {},
   "source": [
    "<b>6. What is the value of bacon.index(&#39;cat&#39;)?\n",
    "\n",
    "<b>Answer:\n",
    ">1\n",
    "<hr >"
   ]
  },
  {
   "cell_type": "code",
   "execution_count": 10,
   "metadata": {},
   "outputs": [
    {
     "data": {
      "text/plain": [
       "1"
      ]
     },
     "execution_count": 10,
     "metadata": {},
     "output_type": "execute_result"
    }
   ],
   "source": [
    "bacon = [3.14, 'cat', 11,'cat', True]\n",
    "bacon.index('cat')"
   ]
  },
  {
   "attachments": {},
   "cell_type": "markdown",
   "metadata": {},
   "source": [
    "<b>7. How does bacon.append(99) change the look of the list value in bacon?\n",
    "\n",
    "<b>Answer:\n",
    ">[3.14, 'cat', 11, 'cat', True, 99, 99]\n",
    "<hr >"
   ]
  },
  {
   "cell_type": "code",
   "execution_count": 12,
   "metadata": {},
   "outputs": [
    {
     "name": "stdout",
     "output_type": "stream",
     "text": [
      "[3.14, 'cat', 11, 'cat', True, 99, 99]\n"
     ]
    }
   ],
   "source": [
    "bacon.append(99)\n",
    "print(bacon)"
   ]
  },
  {
   "attachments": {},
   "cell_type": "markdown",
   "metadata": {},
   "source": [
    "<b>8. How does bacon.remove(&#39;cat&#39;) change the look of the list in bacon?\n",
    "\n",
    "<b>Answer:\n",
    ">[3.14, 11, True, 99, 99]\n",
    "<hr >"
   ]
  },
  {
   "cell_type": "code",
   "execution_count": 14,
   "metadata": {},
   "outputs": [
    {
     "name": "stdout",
     "output_type": "stream",
     "text": [
      "[3.14, 11, True, 99, 99]\n"
     ]
    }
   ],
   "source": [
    "bacon.remove('cat')\n",
    "print(bacon)"
   ]
  },
  {
   "attachments": {},
   "cell_type": "markdown",
   "metadata": {},
   "source": [
    "<b>9. What are the list concatenation and list replication operators?\n",
    "\n",
    "<b>Answer:\n",
    ">- list concatenation operators is +\n",
    ">- list replication operators is *\n",
    "<hr >"
   ]
  },
  {
   "attachments": {},
   "cell_type": "markdown",
   "metadata": {},
   "source": [
    "<b>10. What is difference between the list methods append() and insert()?\n",
    "\n",
    "<b>Answer:\n",
    ">- append() method will add an item at the end of the list\n",
    ">- insert() method will inserts the item in a specific position in the list\n",
    "<hr >"
   ]
  },
  {
   "attachments": {},
   "cell_type": "markdown",
   "metadata": {},
   "source": [
    "<b>11. What are the two methods for removing items from a list?\n",
    "\n",
    "<b>Answer:\n",
    ">- remove() method\n",
    ">- pop() method\n",
    "<hr >"
   ]
  },
  {
   "cell_type": "code",
   "execution_count": 3,
   "metadata": {},
   "outputs": [
    {
     "name": "stdout",
     "output_type": "stream",
     "text": [
      "[2, 3, 4]\n"
     ]
    }
   ],
   "source": [
    "l=[1,2,3,4,5]\n",
    "l.remove(1)\n",
    "l.pop()\n",
    "print(l)"
   ]
  },
  {
   "attachments": {},
   "cell_type": "markdown",
   "metadata": {},
   "source": [
    "<b>12. Describe how list values and string values are identical.\n",
    "\n",
    "<b>Answer:\n",
    ">- List is mutable, list can contain different types of items\n",
    ">- String is immutable, String can contain characters that are of string type\n",
    "<hr >"
   ]
  },
  {
   "attachments": {},
   "cell_type": "markdown",
   "metadata": {},
   "source": [
    "<b>13. What&#39;s the difference between tuples and lists?\n",
    "\n",
    "<b>Answer:\n",
    ">- tuples are immutable, it means we can't change change the values once they are created, tuple is created with parenthesis - ()\n",
    ">- List is mutable, so we can change the list items add, remove etc, list is created with square brackets- [ ]\n",
    "<hr >"
   ]
  },
  {
   "attachments": {},
   "cell_type": "markdown",
   "metadata": {},
   "source": [
    "<b>14. How do you type a tuple value that only contains the integer 42?\n",
    "\n",
    "<b>Answer:\n",
    "> (42)\n",
    "\n",
    "<hr >"
   ]
  },
  {
   "attachments": {},
   "cell_type": "markdown",
   "metadata": {},
   "source": [
    "<b>15. How do you get a list value&#39;s tuple form? How do you get a tuple value&#39;s list form?\n",
    "\n",
    "<b>Answer:\n",
    ">- use list() built-in function\n",
    ">- use tuple() built-in function which will converted passed input into tuple\n",
    "<hr >"
   ]
  },
  {
   "attachments": {},
   "cell_type": "markdown",
   "metadata": {},
   "source": [
    "<b>16. Variables that &quot;contain&quot; list values are not necessarily lists themselves. Instead, what do they\n",
    "contain?\n",
    "\n",
    "<b>Answer:\n",
    "> variables contains references to list values\n",
    "<hr >"
   ]
  },
  {
   "attachments": {},
   "cell_type": "markdown",
   "metadata": {},
   "source": [
    "<b>17. How do you distinguish between copy.copy() and copy.deepcopy()?\n",
    "\n",
    "<b>Answer:\n",
    ">- copy.copy() will returns a shallow copy of the list\n",
    ">- copy.deepcopy() will returns a deep copy of the list\n",
    "<hr >"
   ]
  }
 ],
 "metadata": {
  "kernelspec": {
   "display_name": "Python 3",
   "language": "python",
   "name": "python3"
  },
  "language_info": {
   "codemirror_mode": {
    "name": "ipython",
    "version": 3
   },
   "file_extension": ".py",
   "mimetype": "text/x-python",
   "name": "python",
   "nbconvert_exporter": "python",
   "pygments_lexer": "ipython3",
   "version": "3.10.5"
  },
  "orig_nbformat": 4,
  "vscode": {
   "interpreter": {
    "hash": "369f2c481f4da34e4445cda3fffd2e751bd1c4d706f27375911949ba6bb62e1c"
   }
  }
 },
 "nbformat": 4,
 "nbformat_minor": 2
}
